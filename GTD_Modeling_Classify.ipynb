{
 "cells": [
  {
   "cell_type": "code",
   "execution_count": 1,
   "metadata": {},
   "outputs": [],
   "source": [
    "import pandas as pd\n",
    "import numpy as np\n"
   ]
  },
  {
   "cell_type": "code",
   "execution_count": 2,
   "metadata": {},
   "outputs": [
    {
     "name": "stdout",
     "output_type": "stream",
     "text": [
      "        eventid  iyear  imonth  iday  extended  country    country_txt  \\\n",
      "0  200001010027   2000       1     1         0      217  United States   \n",
      "1  200001020002   2000       1     2         1        6        Algeria   \n",
      "2  200001030008   2000       1     3         0      217  United States   \n",
      "3  200001030010   2000       1     3         0      228          Yemen   \n",
      "4  200001040005   2000       1     4         1       45       Colombia   \n",
      "\n",
      "   region                  region_txt        city  ...  claimmode  \\\n",
      "0       1               North America      Mesick  ...         -1   \n",
      "1      10  Middle East & North Africa   El Omaria  ...         -1   \n",
      "2       1               North America  Cincinnati  ...         -1   \n",
      "3      10  Middle East & North Africa        Aden  ...         -1   \n",
      "4       3               South America      Bogota  ...         -1   \n",
      "\n",
      "   claimmode_txt  weaptype1  weaptype1_txt  nkill  nkillus nwound  property  \\\n",
      "0            Non          8     Incendiary      0        0      0         1   \n",
      "1            Non          9          Melee      5        0      0         1   \n",
      "2            Non          6     Explosives      0        0      0         0   \n",
      "3            Non          6     Explosives      0        0      0         0   \n",
      "4            Non          9          Melee      0        0      0         0   \n",
      "\n",
      "                      related nyear  \n",
      "0                          -1    30  \n",
      "1                          -1    30  \n",
      "2  200001030008, 200001030009    30  \n",
      "3                          -1    30  \n",
      "4                          -1    30  \n",
      "\n",
      "[5 rows x 35 columns]\n",
      "<class 'pandas.core.frame.DataFrame'>\n",
      "RangeIndex: 90365 entries, 0 to 90364\n",
      "Data columns (total 35 columns):\n",
      " #   Column           Non-Null Count  Dtype  \n",
      "---  ------           --------------  -----  \n",
      " 0   eventid          90365 non-null  int64  \n",
      " 1   iyear            90365 non-null  int64  \n",
      " 2   imonth           90365 non-null  int64  \n",
      " 3   iday             90365 non-null  int64  \n",
      " 4   extended         90365 non-null  int64  \n",
      " 5   country          90365 non-null  int64  \n",
      " 6   country_txt      90365 non-null  object \n",
      " 7   region           90365 non-null  int64  \n",
      " 8   region_txt       90365 non-null  object \n",
      " 9   city             90365 non-null  object \n",
      " 10  latitude         90365 non-null  float64\n",
      " 11  longitude        90365 non-null  float64\n",
      " 12  success          90365 non-null  int64  \n",
      " 13  suicide          90365 non-null  int64  \n",
      " 14  multiple         90365 non-null  int64  \n",
      " 15  attacktype1      90365 non-null  int64  \n",
      " 16  attacktype1_txt  90365 non-null  object \n",
      " 17  targtype1        90365 non-null  int64  \n",
      " 18  targtype1_txt    90365 non-null  object \n",
      " 19  target1          90365 non-null  object \n",
      " 20  natlty1          90365 non-null  int64  \n",
      " 21  natlty1_txt      90365 non-null  object \n",
      " 22  gname            90365 non-null  object \n",
      " 23  nperps           90365 non-null  int64  \n",
      " 24  claimed          90365 non-null  int64  \n",
      " 25  claimmode        90365 non-null  int64  \n",
      " 26  claimmode_txt    90365 non-null  object \n",
      " 27  weaptype1        90365 non-null  int64  \n",
      " 28  weaptype1_txt    90365 non-null  object \n",
      " 29  nkill            90365 non-null  int64  \n",
      " 30  nkillus          90365 non-null  int64  \n",
      " 31  nwound           90365 non-null  int64  \n",
      " 32  property         90365 non-null  int64  \n",
      " 33  related          90365 non-null  object \n",
      " 34  nyear            90365 non-null  int64  \n",
      "dtypes: float64(2), int64(22), object(11)\n",
      "memory usage: 24.1+ MB\n",
      "None\n"
     ]
    }
   ],
   "source": [
    "data = pd.read_csv(\"GTD_preprocessed_v1.csv\")\n",
    "print(data.head(5))\n",
    "print(data.info())"
   ]
  },
  {
   "cell_type": "code",
   "execution_count": 3,
   "metadata": {},
   "outputs": [
    {
     "name": "stdout",
     "output_type": "stream",
     "text": [
      "<class 'pandas.core.frame.DataFrame'>\n",
      "RangeIndex: 90365 entries, 0 to 90364\n",
      "Data columns (total 21 columns):\n",
      " #   Column       Non-Null Count  Dtype  \n",
      "---  ------       --------------  -----  \n",
      " 0   extended     90365 non-null  int64  \n",
      " 1   country      90365 non-null  int64  \n",
      " 2   region       90365 non-null  int64  \n",
      " 3   latitude     90365 non-null  float64\n",
      " 4   longitude    90365 non-null  float64\n",
      " 5   success      90365 non-null  int64  \n",
      " 6   suicide      90365 non-null  int64  \n",
      " 7   multiple     90365 non-null  int64  \n",
      " 8   attacktype1  90365 non-null  int64  \n",
      " 9   targtype1    90365 non-null  int64  \n",
      " 10  natlty1      90365 non-null  int64  \n",
      " 11  gname        90365 non-null  object \n",
      " 12  nperps       90365 non-null  int64  \n",
      " 13  claimed      90365 non-null  int64  \n",
      " 14  claimmode    90365 non-null  int64  \n",
      " 15  weaptype1    90365 non-null  int64  \n",
      " 16  nkill        90365 non-null  int64  \n",
      " 17  nkillus      90365 non-null  int64  \n",
      " 18  nwound       90365 non-null  int64  \n",
      " 19  property     90365 non-null  int64  \n",
      " 20  nyear        90365 non-null  int64  \n",
      "dtypes: float64(2), int64(18), object(1)\n",
      "memory usage: 14.5+ MB\n"
     ]
    }
   ],
   "source": [
    "oridata = data\n",
    "data = oridata[['extended','country','region','latitude','longitude','success','suicide','multiple',\n",
    "               'attacktype1','targtype1','natlty1','gname','nperps','claimed','claimmode','weaptype1',\n",
    "               'nkill','nkillus','nwound','property','nyear']]\n",
    "data.info()"
   ]
  },
  {
   "cell_type": "code",
   "execution_count": 4,
   "metadata": {},
   "outputs": [
    {
     "name": "stderr",
     "output_type": "stream",
     "text": [
      "<ipython-input-4-8de6ff124964>:1: SettingWithCopyWarning: \n",
      "A value is trying to be set on a copy of a slice from a DataFrame.\n",
      "Try using .loc[row_indexer,col_indexer] = value instead\n",
      "\n",
      "See the caveats in the documentation: https://pandas.pydata.org/pandas-docs/stable/user_guide/indexing.html#returning-a-view-versus-a-copy\n",
      "  data['groupid'] = pd.factorize(data['gname'])[0]\n",
      "D:\\Anaconda3\\lib\\site-packages\\pandas\\core\\frame.py:4163: SettingWithCopyWarning: \n",
      "A value is trying to be set on a copy of a slice from a DataFrame\n",
      "\n",
      "See the caveats in the documentation: https://pandas.pydata.org/pandas-docs/stable/user_guide/indexing.html#returning-a-view-versus-a-copy\n",
      "  return super().drop(\n"
     ]
    }
   ],
   "source": [
    "data['groupid'] = pd.factorize(data['gname'])[0]\n",
    "data.drop(['gname'],axis=1,inplace=True)\n",
    "# print(data[['groupid','gname']].head(5))\n"
   ]
  },
  {
   "cell_type": "code",
   "execution_count": 5,
   "metadata": {
    "scrolled": false
   },
   "outputs": [
    {
     "name": "stdout",
     "output_type": "stream",
     "text": [
      "<class 'pandas.core.frame.DataFrame'>\n",
      "RangeIndex: 90365 entries, 0 to 90364\n",
      "Data columns (total 21 columns):\n",
      " #   Column       Non-Null Count  Dtype  \n",
      "---  ------       --------------  -----  \n",
      " 0   extended     90365 non-null  int64  \n",
      " 1   country      90365 non-null  int64  \n",
      " 2   region       90365 non-null  int64  \n",
      " 3   latitude     90365 non-null  float64\n",
      " 4   longitude    90365 non-null  float64\n",
      " 5   success      90365 non-null  int64  \n",
      " 6   suicide      90365 non-null  int64  \n",
      " 7   multiple     90365 non-null  int64  \n",
      " 8   attacktype1  90365 non-null  int64  \n",
      " 9   targtype1    90365 non-null  int64  \n",
      " 10  natlty1      90365 non-null  int64  \n",
      " 11  nperps       90365 non-null  int64  \n",
      " 12  claimed      90365 non-null  int64  \n",
      " 13  claimmode    90365 non-null  int64  \n",
      " 14  weaptype1    90365 non-null  int64  \n",
      " 15  nkill        90365 non-null  int64  \n",
      " 16  nkillus      90365 non-null  int64  \n",
      " 17  nwound       90365 non-null  int64  \n",
      " 18  property     90365 non-null  int64  \n",
      " 19  nyear        90365 non-null  int64  \n",
      " 20  groupid      90365 non-null  int64  \n",
      "dtypes: float64(2), int64(19)\n",
      "memory usage: 14.5 MB\n",
      "None\n"
     ]
    }
   ],
   "source": [
    "print(data.info())"
   ]
  },
  {
   "cell_type": "code",
   "execution_count": 6,
   "metadata": {},
   "outputs": [],
   "source": [
    "data.to_csv(\"GTD_ForModel_v1.csv\",index=False)"
   ]
  },
  {
   "cell_type": "markdown",
   "metadata": {},
   "source": [
    "------\n",
    "------"
   ]
  },
  {
   "cell_type": "code",
   "execution_count": 2,
   "metadata": {},
   "outputs": [],
   "source": [
    "oridata = pd.read_csv(\"GTD_ForModel_v1.csv\")"
   ]
  },
  {
   "cell_type": "code",
   "execution_count": 3,
   "metadata": {},
   "outputs": [],
   "source": [
    "value_count = oridata['groupid'].value_counts()"
   ]
  },
  {
   "cell_type": "code",
   "execution_count": 4,
   "metadata": {},
   "outputs": [
    {
     "data": {
      "text/plain": [
       "145"
      ]
     },
     "execution_count": 4,
     "metadata": {},
     "output_type": "execute_result"
    }
   ],
   "source": [
    "type(value_count)\n",
    "value_count\n",
    "value_count[333]"
   ]
  },
  {
   "cell_type": "code",
   "execution_count": 5,
   "metadata": {},
   "outputs": [],
   "source": [
    "def gettimes(x,num):\n",
    "    return value_count[x]<=num\n",
    "\n",
    "data = oridata.drop(oridata[oridata['groupid'].apply(func=gettimes,num=500)].index)"
   ]
  },
  {
   "cell_type": "code",
   "execution_count": 10,
   "metadata": {},
   "outputs": [
    {
     "name": "stdout",
     "output_type": "stream",
     "text": [
      "<class 'pandas.core.frame.DataFrame'>\n",
      "Int64Index: 25648 entries, 17 to 90360\n",
      "Data columns (total 18 columns):\n",
      " #   Column       Non-Null Count  Dtype  \n",
      "---  ------       --------------  -----  \n",
      " 0   extended     25648 non-null  int64  \n",
      " 1   country      25648 non-null  int64  \n",
      " 2   region       25648 non-null  int64  \n",
      " 3   latitude     25648 non-null  float64\n",
      " 4   longitude    25648 non-null  float64\n",
      " 5   success      25648 non-null  int64  \n",
      " 6   suicide      25648 non-null  int64  \n",
      " 7   attacktype1  25648 non-null  int64  \n",
      " 8   targtype1    25648 non-null  int64  \n",
      " 9   nperps       25648 non-null  int64  \n",
      " 10  claimed      25648 non-null  int64  \n",
      " 11  claimmode    25648 non-null  int64  \n",
      " 12  weaptype1    25648 non-null  int64  \n",
      " 13  nkill        25648 non-null  int64  \n",
      " 14  nwound       25648 non-null  int64  \n",
      " 15  property     25648 non-null  int64  \n",
      " 16  nyear        25648 non-null  int64  \n",
      " 17  groupid      25648 non-null  int64  \n",
      "dtypes: float64(2), int64(16)\n",
      "memory usage: 3.7 MB\n",
      "181    6141\n",
      "703    4626\n",
      "319    2258\n",
      "261    1798\n",
      "457    1721\n",
      "11     1651\n",
      "34     1370\n",
      "303    1289\n",
      "150    1113\n",
      "18      910\n",
      "241     904\n",
      "469     799\n",
      "820     558\n",
      "233     510\n",
      "Name: groupid, dtype: int64\n",
      "<class 'pandas.core.frame.DataFrame'>\n",
      "Int64Index: 25648 entries, 17 to 90360\n",
      "Data columns (total 18 columns):\n",
      " #   Column       Non-Null Count  Dtype  \n",
      "---  ------       --------------  -----  \n",
      " 0   extended     25648 non-null  int64  \n",
      " 1   country      25648 non-null  int64  \n",
      " 2   region       25648 non-null  int64  \n",
      " 3   latitude     25648 non-null  float64\n",
      " 4   longitude    25648 non-null  float64\n",
      " 5   success      25648 non-null  int64  \n",
      " 6   suicide      25648 non-null  int64  \n",
      " 7   attacktype1  25648 non-null  int64  \n",
      " 8   targtype1    25648 non-null  int64  \n",
      " 9   nperps       25648 non-null  int64  \n",
      " 10  claimed      25648 non-null  int64  \n",
      " 11  claimmode    25648 non-null  int64  \n",
      " 12  weaptype1    25648 non-null  int64  \n",
      " 13  nkill        25648 non-null  int64  \n",
      " 14  nwound       25648 non-null  int64  \n",
      " 15  property     25648 non-null  int64  \n",
      " 16  nyear        25648 non-null  int64  \n",
      " 17  groupid      25648 non-null  int64  \n",
      "dtypes: float64(2), int64(16)\n",
      "memory usage: 3.7 MB\n"
     ]
    },
    {
     "data": {
      "text/plain": [
       "181    6141\n",
       "703    4626\n",
       "319    2258\n",
       "261    1798\n",
       "457    1721\n",
       "11     1651\n",
       "34     1370\n",
       "303    1289\n",
       "150    1113\n",
       "18      910\n",
       "241     904\n",
       "469     799\n",
       "820     558\n",
       "233     510\n",
       "Name: groupid, dtype: int64"
      ]
     },
     "execution_count": 10,
     "metadata": {},
     "output_type": "execute_result"
    }
   ],
   "source": [
    "#data.drop(['multiple','natlty1','nkillus'],axis=1,inplace=True)\n",
    "data.info()\n",
    "data.head(10)\n",
    "\n",
    "new_value_count = data['groupid'].value_counts()\n",
    "print(new_value_count)\n",
    "data = data[data['groupid']!=1]\n",
    "data.info()\n",
    "new_value_count"
   ]
  },
  {
   "cell_type": "code",
   "execution_count": 11,
   "metadata": {},
   "outputs": [],
   "source": [
    "from sklearn.model_selection import train_test_split\n",
    "def get_train_test_data(data,y_name,test_size):\n",
    "    all_x = data.drop([y_name],axis=1)\n",
    "    all_y = data[y_name]\n",
    "    train_X,test_X,train_Y,test_Y = train_test_split(all_x,all_y,random_state=1,test_size=test_size)\n",
    "    return train_X,train_Y,test_X,test_Y"
   ]
  },
  {
   "cell_type": "code",
   "execution_count": 12,
   "metadata": {},
   "outputs": [],
   "source": [
    "train_X,train_Y,test_X,test_Y = get_train_test_data(data,'groupid',0.2)"
   ]
  },
  {
   "cell_type": "code",
   "execution_count": 13,
   "metadata": {},
   "outputs": [
    {
     "name": "stdout",
     "output_type": "stream",
     "text": [
      "<class 'pandas.core.frame.DataFrame'>\n",
      "Int64Index: 20518 entries, 27501 to 2986\n",
      "Data columns (total 17 columns):\n",
      " #   Column       Non-Null Count  Dtype  \n",
      "---  ------       --------------  -----  \n",
      " 0   extended     20518 non-null  int64  \n",
      " 1   country      20518 non-null  int64  \n",
      " 2   region       20518 non-null  int64  \n",
      " 3   latitude     20518 non-null  float64\n",
      " 4   longitude    20518 non-null  float64\n",
      " 5   success      20518 non-null  int64  \n",
      " 6   suicide      20518 non-null  int64  \n",
      " 7   attacktype1  20518 non-null  int64  \n",
      " 8   targtype1    20518 non-null  int64  \n",
      " 9   nperps       20518 non-null  int64  \n",
      " 10  claimed      20518 non-null  int64  \n",
      " 11  claimmode    20518 non-null  int64  \n",
      " 12  weaptype1    20518 non-null  int64  \n",
      " 13  nkill        20518 non-null  int64  \n",
      " 14  nwound       20518 non-null  int64  \n",
      " 15  property     20518 non-null  int64  \n",
      " 16  nyear        20518 non-null  int64  \n",
      "dtypes: float64(2), int64(15)\n",
      "memory usage: 2.8 MB\n",
      "None\n",
      "27501    150\n",
      "45182    319\n",
      "74718    150\n",
      "66520    181\n",
      "23612     18\n",
      "        ... \n",
      "47808    319\n",
      "66409    457\n",
      "24154    181\n",
      "51502    319\n",
      "2986      11\n",
      "Name: groupid, Length: 20518, dtype: int64\n",
      "<class 'pandas.core.frame.DataFrame'>\n",
      "Int64Index: 5130 entries, 77455 to 52618\n",
      "Data columns (total 17 columns):\n",
      " #   Column       Non-Null Count  Dtype  \n",
      "---  ------       --------------  -----  \n",
      " 0   extended     5130 non-null   int64  \n",
      " 1   country      5130 non-null   int64  \n",
      " 2   region       5130 non-null   int64  \n",
      " 3   latitude     5130 non-null   float64\n",
      " 4   longitude    5130 non-null   float64\n",
      " 5   success      5130 non-null   int64  \n",
      " 6   suicide      5130 non-null   int64  \n",
      " 7   attacktype1  5130 non-null   int64  \n",
      " 8   targtype1    5130 non-null   int64  \n",
      " 9   nperps       5130 non-null   int64  \n",
      " 10  claimed      5130 non-null   int64  \n",
      " 11  claimmode    5130 non-null   int64  \n",
      " 12  weaptype1    5130 non-null   int64  \n",
      " 13  nkill        5130 non-null   int64  \n",
      " 14  nwound       5130 non-null   int64  \n",
      " 15  property     5130 non-null   int64  \n",
      " 16  nyear        5130 non-null   int64  \n",
      "dtypes: float64(2), int64(15)\n",
      "memory usage: 721.4 KB\n",
      "None\n"
     ]
    }
   ],
   "source": [
    "print(train_X.info())\n",
    "print(train_Y)\n",
    "print(test_X.info())"
   ]
  },
  {
   "cell_type": "code",
   "execution_count": null,
   "metadata": {
    "scrolled": false
   },
   "outputs": [],
   "source": [
    "# 这一部分因为数据集比较大，运行不出来，先不要运行\n",
    "# from sklearn.model_selection import cross_val_score\n",
    "# from sklearn.ensemble import RandomForestClassifier\n",
    "# from sklearn.svm import SVC\n",
    "# from sklearn.ensemble import AdaBoostClassifier\n",
    "\n",
    "# model_rdf = RandomForestClassifier(n_estimators=500,warm_start=True,max_features='sqrt',max_depth=20,\n",
    "#                                min_samples_split=3,min_samples_leaf=2,n_jobs=10,verbose=0)\n",
    "# model_ada = AdaBoostClassifier(n_estimators=500,learning_rate=0.1)\n",
    "# model_svm = SVC(kernel='linear',C=0.025)\n",
    "\n",
    "# score = cross_val_score(model_svm,train_X,train_Y,cv=5,scoring='accuracy')   \n",
    "# print('accuracy:'+str(score)+'\\n')\n",
    "\n",
    "# def cross_valuation(model,X,Y):\n",
    "#     print(\"The model:\")\n",
    "#     score = cross_val_score(model,X,Y,cv=10,scoring='accuracy')\n",
    "#     print('accuracy:'+str(score)+'\\n')\n",
    "#     accuracy = str(score)\n",
    "#     score = cross_val_score(model,X,Y,cv=10,scoring='f1')\n",
    "#     print('f1 score:'+str(score)+'\\n')\n",
    "#     f1 = str(score)\n",
    "#     #return accuracy,f1\n",
    "\n",
    "# cross_valuation(model_rdf,train_X,train_Y)\n",
    "# cross_valuation(model_ada,train_X,train_Y)\n",
    "# cross_valuation(model_svm,train_X,train_Y)"
   ]
  },
  {
   "cell_type": "code",
   "execution_count": 14,
   "metadata": {},
   "outputs": [],
   "source": [
    "from sklearn.metrics import accuracy_score\n",
    "from sklearn import model_selection\n",
    "from sklearn.ensemble import RandomForestClassifier\n",
    "from xgboost import XGBClassifier"
   ]
  },
  {
   "cell_type": "code",
   "execution_count": 15,
   "metadata": {},
   "outputs": [
    {
     "name": "stdout",
     "output_type": "stream",
     "text": [
      "Accuracy: 0.9730994152046784\n"
     ]
    },
    {
     "data": {
      "text/html": [
       "<div>\n",
       "<style scoped>\n",
       "    .dataframe tbody tr th:only-of-type {\n",
       "        vertical-align: middle;\n",
       "    }\n",
       "\n",
       "    .dataframe tbody tr th {\n",
       "        vertical-align: top;\n",
       "    }\n",
       "\n",
       "    .dataframe thead th {\n",
       "        text-align: right;\n",
       "    }\n",
       "</style>\n",
       "<table border=\"1\" class=\"dataframe\">\n",
       "  <thead>\n",
       "    <tr style=\"text-align: right;\">\n",
       "      <th></th>\n",
       "      <th>feature</th>\n",
       "      <th>importance</th>\n",
       "    </tr>\n",
       "  </thead>\n",
       "  <tbody>\n",
       "    <tr>\n",
       "      <th>1</th>\n",
       "      <td>country</td>\n",
       "      <td>0.281814</td>\n",
       "    </tr>\n",
       "    <tr>\n",
       "      <th>4</th>\n",
       "      <td>longitude</td>\n",
       "      <td>0.214908</td>\n",
       "    </tr>\n",
       "    <tr>\n",
       "      <th>3</th>\n",
       "      <td>latitude</td>\n",
       "      <td>0.205207</td>\n",
       "    </tr>\n",
       "    <tr>\n",
       "      <th>2</th>\n",
       "      <td>region</td>\n",
       "      <td>0.165410</td>\n",
       "    </tr>\n",
       "    <tr>\n",
       "      <th>16</th>\n",
       "      <td>nyear</td>\n",
       "      <td>0.067442</td>\n",
       "    </tr>\n",
       "    <tr>\n",
       "      <th>11</th>\n",
       "      <td>claimmode</td>\n",
       "      <td>0.010961</td>\n",
       "    </tr>\n",
       "    <tr>\n",
       "      <th>8</th>\n",
       "      <td>targtype1</td>\n",
       "      <td>0.010624</td>\n",
       "    </tr>\n",
       "    <tr>\n",
       "      <th>13</th>\n",
       "      <td>nkill</td>\n",
       "      <td>0.009132</td>\n",
       "    </tr>\n",
       "    <tr>\n",
       "      <th>7</th>\n",
       "      <td>attacktype1</td>\n",
       "      <td>0.006527</td>\n",
       "    </tr>\n",
       "    <tr>\n",
       "      <th>9</th>\n",
       "      <td>nperps</td>\n",
       "      <td>0.005637</td>\n",
       "    </tr>\n",
       "  </tbody>\n",
       "</table>\n",
       "</div>"
      ],
      "text/plain": [
       "        feature  importance\n",
       "1       country    0.281814\n",
       "4     longitude    0.214908\n",
       "3      latitude    0.205207\n",
       "2        region    0.165410\n",
       "16        nyear    0.067442\n",
       "11    claimmode    0.010961\n",
       "8     targtype1    0.010624\n",
       "13        nkill    0.009132\n",
       "7   attacktype1    0.006527\n",
       "9        nperps    0.005637"
      ]
     },
     "execution_count": 15,
     "metadata": {},
     "output_type": "execute_result"
    }
   ],
   "source": [
    "from sklearn.ensemble import RandomForestClassifier\n",
    "model_rdf = RandomForestClassifier(n_estimators=500,warm_start=True,max_features='sqrt',max_depth=20,\n",
    "                               min_samples_split=3,min_samples_leaf=2,n_jobs=15,verbose=0)\n",
    "model_rdf.fit(train_X,train_Y)\n",
    "predicts = model_rdf.predict(test_X)\n",
    "accuracy = accuracy_score(test_Y,predicts)\n",
    "print(\"Accuracy:\",accuracy)\n",
    "feature_imp_sorted_rf = pd.DataFrame({'feature':list(train_X),\n",
    "                                        'importance':model_rdf.feature_importances_}).sort_values('importance',ascending=False)\n",
    "feature_imp_sorted_rf.head(10)"
   ]
  },
  {
   "cell_type": "code",
   "execution_count": 16,
   "metadata": {},
   "outputs": [
    {
     "name": "stdout",
     "output_type": "stream",
     "text": [
      "0.8981167863433139\n"
     ]
    }
   ],
   "source": [
    "# rf_est = RandomForestClassifier(random_state=0,max_features='sqrt')\n",
    "# rf_param_grid = {'n_estimators':[300,400,500],'min_samples_split':[2,3,5],'max_depth':[5,15]}\n",
    "# rf_grid = model_selection.GridSearchCV(rf_est,rf_param_grid,n_jobs=20,cv=5,verbose=0)\n",
    "# rf_grid.fit(train_X,train_Y)\n",
    "# predicts = rf_grid.predict(test_X)\n",
    "# accuracy = accuracy_score(test_Y,predicts)\n",
    "# print(accuracy)"
   ]
  },
  {
   "cell_type": "code",
   "execution_count": 12,
   "metadata": {},
   "outputs": [
    {
     "name": "stdout",
     "output_type": "stream",
     "text": [
      "0.7094567131824956\n"
     ]
    }
   ],
   "source": [
    "from sklearn.ensemble import AdaBoostClassifier\n",
    "model_ada = AdaBoostClassifier(n_estimators=500)\n",
    "model_ada.fit(train_X,train_Y)\n",
    "predicts = model_ada.predict(test_X)\n",
    "accuracy = accuracy_score(test_Y,predicts)\n",
    "print(accuracy)"
   ]
  },
  {
   "cell_type": "code",
   "execution_count": null,
   "metadata": {},
   "outputs": [],
   "source": [
    "# from sklearn.svm import SVC\n",
    "# model_svm = SVC(kernel='linear',C=0.025)\n",
    "# model_svm.fit(train_X,train_Y)\n",
    "# predicts = model_svm.predict(test_X)\n",
    "# accuracy = accuracy_score(test_Y,predicts)\n",
    "# print(accuracy)"
   ]
  },
  {
   "cell_type": "code",
   "execution_count": 16,
   "metadata": {
    "scrolled": true
   },
   "outputs": [
    {
     "name": "stdout",
     "output_type": "stream",
     "text": [
      "Accuracy: 0.9734892787524366\n"
     ]
    },
    {
     "data": {
      "text/html": [
       "<div>\n",
       "<style scoped>\n",
       "    .dataframe tbody tr th:only-of-type {\n",
       "        vertical-align: middle;\n",
       "    }\n",
       "\n",
       "    .dataframe tbody tr th {\n",
       "        vertical-align: top;\n",
       "    }\n",
       "\n",
       "    .dataframe thead th {\n",
       "        text-align: right;\n",
       "    }\n",
       "</style>\n",
       "<table border=\"1\" class=\"dataframe\">\n",
       "  <thead>\n",
       "    <tr style=\"text-align: right;\">\n",
       "      <th></th>\n",
       "      <th>feature</th>\n",
       "      <th>importance</th>\n",
       "    </tr>\n",
       "  </thead>\n",
       "  <tbody>\n",
       "    <tr>\n",
       "      <th>2</th>\n",
       "      <td>region</td>\n",
       "      <td>0.524877</td>\n",
       "    </tr>\n",
       "    <tr>\n",
       "      <th>1</th>\n",
       "      <td>country</td>\n",
       "      <td>0.400950</td>\n",
       "    </tr>\n",
       "    <tr>\n",
       "      <th>4</th>\n",
       "      <td>longitude</td>\n",
       "      <td>0.022683</td>\n",
       "    </tr>\n",
       "    <tr>\n",
       "      <th>3</th>\n",
       "      <td>latitude</td>\n",
       "      <td>0.020211</td>\n",
       "    </tr>\n",
       "    <tr>\n",
       "      <th>16</th>\n",
       "      <td>nyear</td>\n",
       "      <td>0.014636</td>\n",
       "    </tr>\n",
       "    <tr>\n",
       "      <th>6</th>\n",
       "      <td>suicide</td>\n",
       "      <td>0.003892</td>\n",
       "    </tr>\n",
       "    <tr>\n",
       "      <th>11</th>\n",
       "      <td>claimmode</td>\n",
       "      <td>0.002602</td>\n",
       "    </tr>\n",
       "    <tr>\n",
       "      <th>10</th>\n",
       "      <td>claimed</td>\n",
       "      <td>0.002262</td>\n",
       "    </tr>\n",
       "    <tr>\n",
       "      <th>9</th>\n",
       "      <td>nperps</td>\n",
       "      <td>0.001511</td>\n",
       "    </tr>\n",
       "    <tr>\n",
       "      <th>5</th>\n",
       "      <td>success</td>\n",
       "      <td>0.001076</td>\n",
       "    </tr>\n",
       "  </tbody>\n",
       "</table>\n",
       "</div>"
      ],
      "text/plain": [
       "      feature  importance\n",
       "2      region    0.524877\n",
       "1     country    0.400950\n",
       "4   longitude    0.022683\n",
       "3    latitude    0.020211\n",
       "16      nyear    0.014636\n",
       "6     suicide    0.003892\n",
       "11  claimmode    0.002602\n",
       "10    claimed    0.002262\n",
       "9      nperps    0.001511\n",
       "5     success    0.001076"
      ]
     },
     "execution_count": 16,
     "metadata": {},
     "output_type": "execute_result"
    }
   ],
   "source": [
    "from xgboost import XGBClassifier\n",
    " \n",
    "model_gbm = XGBClassifier(n_estimators=500,max_depth=15,nthread=-1)\n",
    "model_gbm.fit(train_X,train_Y)\n",
    "predicts = model_gbm.predict(test_X)\n",
    "accuracy = accuracy_score(test_Y,predicts)\n",
    "print(\"Accuracy:\",accuracy)\n",
    "feature_imp_sorted_xg = pd.DataFrame({'feature':list(train_X),\n",
    "                                        'importance':model_gbm.feature_importances_}).sort_values('importance',ascending=False)\n",
    "feature_imp_sorted_xg.head(10)"
   ]
  },
  {
   "cell_type": "code",
   "execution_count": null,
   "metadata": {},
   "outputs": [
    {
     "name": "stderr",
     "output_type": "stream",
     "text": [
      "D:\\Anaconda3\\lib\\site-packages\\joblib\\externals\\loky\\process_executor.py:688: UserWarning: A worker stopped while some jobs were given to the executor. This can be caused by a too short worker timeout or by a memory leak.\n",
      "  warnings.warn(\n"
     ]
    }
   ],
   "source": [
    "# xgb_est = XGBClassifier()\n",
    "# xgb_param_grid = {'n_estimators':[300,500],'max_depth':[15],'min_child_weight': [3,5,10]}\n",
    "# xgb_grid = model_selection.GridSearchCV(xgb_est,xgb_param_grid,n_jobs=20,cv=5,verbose=0)\n",
    "# xgb_grid.fit(train_X,train_Y)\n",
    "# predicts = xgb_grid.predict(test_X)\n",
    "# accuracy = accuracy_score(test_Y,predicts)\n",
    "# print(accuracy)"
   ]
  },
  {
   "cell_type": "code",
   "execution_count": 14,
   "metadata": {},
   "outputs": [
    {
     "name": "stdout",
     "output_type": "stream",
     "text": [
      "<class 'pandas.core.frame.DataFrame'>\n",
      "Int64Index: 73810 entries, 1 to 90364\n",
      "Data columns (total 18 columns):\n",
      " #   Column       Non-Null Count  Dtype  \n",
      "---  ------       --------------  -----  \n",
      " 0   extended     73810 non-null  int64  \n",
      " 1   country      73810 non-null  int64  \n",
      " 2   region       73810 non-null  int64  \n",
      " 3   latitude     73810 non-null  float64\n",
      " 4   longitude    73810 non-null  float64\n",
      " 5   success      73810 non-null  int64  \n",
      " 6   suicide      73810 non-null  int64  \n",
      " 7   attacktype1  73810 non-null  int64  \n",
      " 8   targtype1    73810 non-null  int64  \n",
      " 9   nperps       73810 non-null  int64  \n",
      " 10  claimed      73810 non-null  int64  \n",
      " 11  claimmode    73810 non-null  int64  \n",
      " 12  weaptype1    73810 non-null  int64  \n",
      " 13  nkill        73810 non-null  int64  \n",
      " 14  nwound       73810 non-null  int64  \n",
      " 15  property     73810 non-null  int64  \n",
      " 16  nyear        73810 non-null  int64  \n",
      " 17  groupid      73810 non-null  int64  \n",
      "dtypes: float64(2), int64(16)\n",
      "memory usage: 10.7 MB\n"
     ]
    }
   ],
   "source": [
    "\n",
    "data.info()"
   ]
  },
  {
   "cell_type": "code",
   "execution_count": null,
   "metadata": {},
   "outputs": [],
   "source": []
  }
 ],
 "metadata": {
  "kernelspec": {
   "display_name": "Python 3",
   "language": "python",
   "name": "python3"
  },
  "language_info": {
   "codemirror_mode": {
    "name": "ipython",
    "version": 3
   },
   "file_extension": ".py",
   "mimetype": "text/x-python",
   "name": "python",
   "nbconvert_exporter": "python",
   "pygments_lexer": "ipython3",
   "version": "3.8.5"
  }
 },
 "nbformat": 4,
 "nbformat_minor": 4
}
