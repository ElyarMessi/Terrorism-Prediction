{
 "cells": [
  {
   "cell_type": "code",
   "execution_count": 1,
   "metadata": {},
   "outputs": [],
   "source": [
    "import numpy as np\n",
    "import pandas as pd"
   ]
  },
  {
   "cell_type": "code",
   "execution_count": 11,
   "metadata": {
    "code_folding": [],
    "scrolled": false
   },
   "outputs": [
    {
     "name": "stderr",
     "output_type": "stream",
     "text": [
      "b'Skipping line 47098: expected 135 fields, saw 137\\n'\n",
      "b'Skipping line 68154: expected 135 fields, saw 138\\nSkipping line 68155: expected 135 fields, saw 138\\nSkipping line 68829: expected 135 fields, saw 138\\nSkipping line 68872: expected 135 fields, saw 138\\nSkipping line 68875: expected 135 fields, saw 137\\nSkipping line 68876: expected 135 fields, saw 137\\nSkipping line 68895: expected 135 fields, saw 137\\n'\n",
      "b'Skipping line 70085: expected 135 fields, saw 244\\nSkipping line 71026: expected 135 fields, saw 143\\nSkipping line 71291: expected 135 fields, saw 250\\nSkipping line 71296: expected 135 fields, saw 248\\nSkipping line 72518: expected 135 fields, saw 139\\nSkipping line 72536: expected 135 fields, saw 248\\nSkipping line 72547: expected 135 fields, saw 245\\n'\n",
      "b'Skipping line 74920: expected 135 fields, saw 247\\nSkipping line 76240: expected 135 fields, saw 248\\nSkipping line 76356: expected 135 fields, saw 138\\nSkipping line 77304: expected 135 fields, saw 137\\nSkipping line 77307: expected 135 fields, saw 137\\nSkipping line 77326: expected 135 fields, saw 137\\nSkipping line 77623: expected 135 fields, saw 154\\nSkipping line 77632: expected 135 fields, saw 353\\nSkipping line 77637: expected 135 fields, saw 246\\nSkipping line 77642: expected 135 fields, saw 245\\nSkipping line 77644: expected 135 fields, saw 355\\nSkipping line 77645: expected 135 fields, saw 247\\nSkipping line 77649: expected 135 fields, saw 464\\nSkipping line 77653: expected 135 fields, saw 466\\nSkipping line 77656: expected 135 fields, saw 356\\nSkipping line 77661: expected 135 fields, saw 354\\nSkipping line 77664: expected 135 fields, saw 244\\nSkipping line 77667: expected 135 fields, saw 245\\nSkipping line 77672: expected 135 fields, saw 357\\nSkipping line 77673: expected 135 fields, saw 136\\nSkipping line 77674: expected 135 fields, saw 136\\nSkipping line 77675: expected 135 fields, saw 245\\nSkipping line 77677: expected 135 fields, saw 687\\nSkipping line 77678: expected 135 fields, saw 791\\nSkipping line 77679: expected 135 fields, saw 697\\nSkipping line 77680: expected 135 fields, saw 245\\nSkipping line 77682: expected 135 fields, saw 136\\nSkipping line 77687: expected 135 fields, saw 245\\nSkipping line 77690: expected 135 fields, saw 245\\nSkipping line 77691: expected 135 fields, saw 136\\nSkipping line 77692: expected 135 fields, saw 245\\nSkipping line 77694: expected 135 fields, saw 244\\nSkipping line 77695: expected 135 fields, saw 355\\nSkipping line 77696: expected 135 fields, saw 907\\nSkipping line 77700: expected 135 fields, saw 313\\nSkipping line 77703: expected 135 fields, saw 244\\nSkipping line 77706: expected 135 fields, saw 249\\nSkipping line 77707: expected 135 fields, saw 244\\n'\n",
      "b'Skipping line 81057: expected 135 fields, saw 137\\nSkipping line 81702: expected 135 fields, saw 137\\n'\n",
      "b'Skipping line 83159: expected 135 fields, saw 246\\nSkipping line 83245: expected 135 fields, saw 139\\nSkipping line 83645: expected 135 fields, saw 136\\nSkipping line 83669: expected 135 fields, saw 246\\nSkipping line 83675: expected 135 fields, saw 245\\nSkipping line 84293: expected 135 fields, saw 138\\nSkipping line 85695: expected 135 fields, saw 137\\n'\n",
      "b'Skipping line 90480: expected 135 fields, saw 136\\n'\n",
      "b'Skipping line 96326: expected 135 fields, saw 139\\n'\n",
      "b'Skipping line 98570: expected 135 fields, saw 139\\n'\n",
      "b'Skipping line 103146: expected 135 fields, saw 139\\nSkipping line 103162: expected 135 fields, saw 139\\n'\n",
      "D:\\Anaconda3\\lib\\site-packages\\IPython\\core\\interactiveshell.py:3146: DtypeWarning: Columns (4,6,16,19,20,21,22,23,25,26,27,28,30,31,33,34,36,42,44,48,50,52,56,61,62,63,65,66,67,68,69,70,71,72,74,75,76,77,78,79,80,85,87,89,90,91,92,93,94,95,99,101,102,103,104,105,107,109,110,111,112,113,114,115,119,120,121,122,124,131,132,133) have mixed types.Specify dtype option on import or set low_memory=False.\n",
      "  has_raised = await self.run_ast_nodes(code_ast.body, cell_name,\n"
     ]
    }
   ],
   "source": [
    "data = pd.read_csv(\"GTD_origion_v0.csv\",error_bad_lines = False)\n",
    "data = data[['eventid','iyear','imonth','iday','extended','country','country_txt','region',\n",
    "             'region_txt','city','latitude','longitude','success','suicide','doubtterr','multiple',\n",
    "             'attacktype1','attacktype1_txt','targtype1','targtype1_txt','target1','natlty1','natlty1_txt',\n",
    "             'gname','nperps','claimed','claimmode','claimmode_txt','weaptype1','weaptype1_txt',\n",
    "             'nkill','nkillus','nwound','property','related']]\n",
    "data.to_csv(\"GTD_origon_v1.csv\")"
   ]
  },
  {
   "cell_type": "code",
   "execution_count": 2,
   "metadata": {},
   "outputs": [
    {
     "name": "stderr",
     "output_type": "stream",
     "text": [
      "D:\\Anaconda3\\lib\\site-packages\\IPython\\core\\interactiveshell.py:3146: DtypeWarning: Columns (13,14,15,16,17,19,25,26,27,32,33,34) have mixed types.Specify dtype option on import or set low_memory=False.\n",
      "  has_raised = await self.run_ast_nodes(code_ast.body, cell_name,\n"
     ]
    }
   ],
   "source": [
    "# data = pd.read_csv(\"GTD_origon_v1.csv\")"
   ]
  },
  {
   "cell_type": "code",
   "execution_count": 12,
   "metadata": {},
   "outputs": [
    {
     "name": "stdout",
     "output_type": "stream",
     "text": [
      "13784\n",
      "138757\n",
      "28976\n"
     ]
    }
   ],
   "source": [
    "# 计算 doubtterr 字段各个取值的统计\n",
    "# 只保留 doubtterr 为0的数据行\n",
    "count9 = 0\n",
    "count0 = 0\n",
    "count1 = 0\n",
    "for index in data.index:\n",
    "    if pd.isnull(data.loc[index,'doubtterr']):\n",
    "        continue\n",
    "    try:\n",
    "        if int(data.loc[index,'doubtterr']) == -9:\n",
    "            count9+=1\n",
    "            # data.drop(index,axis=0,inplace=True)\n",
    "        elif int(data.loc[index,'doubtterr']) == 0:\n",
    "            count0+=1\n",
    "        elif int(data.loc[index,'doubtterr']) == 1:\n",
    "            count1+=1\n",
    "            # data.drop(index,axis=0,inplace=True)\n",
    "    except ValueError:\n",
    "        data.drop(index,axis=0,inplace=True)\n",
    "print(count9)\n",
    "print(count0)\n",
    "print(count1)"
   ]
  },
  {
   "cell_type": "code",
   "execution_count": 13,
   "metadata": {},
   "outputs": [
    {
     "name": "stdout",
     "output_type": "stream",
     "text": [
      "<class 'pandas.core.frame.DataFrame'>\n",
      "Int64Index: 181535 entries, 0 to 181546\n",
      "Data columns (total 35 columns):\n",
      " #   Column           Non-Null Count   Dtype  \n",
      "---  ------           --------------   -----  \n",
      " 0   eventid          181535 non-null  int64  \n",
      " 1   iyear            181535 non-null  int64  \n",
      " 2   imonth           181535 non-null  int64  \n",
      " 3   iday             181535 non-null  int64  \n",
      " 4   extended         181535 non-null  int64  \n",
      " 5   country          181535 non-null  int64  \n",
      " 6   country_txt      181535 non-null  object \n",
      " 7   region           181535 non-null  int64  \n",
      " 8   region_txt       181535 non-null  object \n",
      " 9   city             181101 non-null  object \n",
      " 10  latitude         176983 non-null  float64\n",
      " 11  longitude        176982 non-null  float64\n",
      " 12  success          181530 non-null  object \n",
      " 13  suicide          181528 non-null  object \n",
      " 14  doubtterr        181520 non-null  object \n",
      " 15  multiple         181529 non-null  object \n",
      " 16  attacktype1      181528 non-null  object \n",
      " 17  attacktype1_txt  181516 non-null  object \n",
      " 18  targtype1        181521 non-null  object \n",
      " 19  targtype1_txt    181521 non-null  object \n",
      " 20  target1          180874 non-null  object \n",
      " 21  natlty1          179945 non-null  object \n",
      " 22  natlty1_txt      178233 non-null  object \n",
      " 23  gname            179626 non-null  object \n",
      " 24  nperps           110554 non-null  object \n",
      " 25  claimed          114387 non-null  object \n",
      " 26  claimmode        19056 non-null   object \n",
      " 27  claimmode_txt    18856 non-null   object \n",
      " 28  weaptype1        181518 non-null  object \n",
      " 29  weaptype1_txt    181420 non-null  object \n",
      " 30  nkill            170568 non-null  float64\n",
      " 31  nkillus          117045 non-null  object \n",
      " 32  nwound           164641 non-null  object \n",
      " 33  property         180469 non-null  object \n",
      " 34  related          24739 non-null   object \n",
      "dtypes: float64(3), int64(7), object(25)\n",
      "memory usage: 54.9+ MB\n"
     ]
    }
   ],
   "source": [
    "data.describe()\n",
    "data.info()"
   ]
  },
  {
   "cell_type": "code",
   "execution_count": 14,
   "metadata": {},
   "outputs": [],
   "source": [
    "# 去掉经纬度缺失的数据\n",
    "nullcount=0\n",
    "for index in data.index:\n",
    "    if pd.isnull(data.loc[index,'latitude']) or pd.isnull(data.loc[index,'longitude']):\n",
    "        data.drop(index,axis=0,inplace=True)\n",
    "        nullcount += 1\n",
    "print(nullcount)"
   ]
  },
  {
   "cell_type": "code",
   "execution_count": 15,
   "metadata": {},
   "outputs": [
    {
     "name": "stdout",
     "output_type": "stream",
     "text": [
      "<class 'pandas.core.frame.DataFrame'>\n",
      "Int64Index: 176982 entries, 0 to 181546\n",
      "Data columns (total 35 columns):\n",
      " #   Column           Non-Null Count   Dtype  \n",
      "---  ------           --------------   -----  \n",
      " 0   eventid          176982 non-null  int64  \n",
      " 1   iyear            176982 non-null  int64  \n",
      " 2   imonth           176982 non-null  int64  \n",
      " 3   iday             176982 non-null  int64  \n",
      " 4   extended         176982 non-null  int64  \n",
      " 5   country          176982 non-null  int64  \n",
      " 6   country_txt      176982 non-null  object \n",
      " 7   region           176982 non-null  int64  \n",
      " 8   region_txt       176982 non-null  object \n",
      " 9   city             176556 non-null  object \n",
      " 10  latitude         176982 non-null  float64\n",
      " 11  longitude        176982 non-null  float64\n",
      " 12  success          176977 non-null  object \n",
      " 13  suicide          176975 non-null  object \n",
      " 14  doubtterr        176967 non-null  object \n",
      " 15  multiple         176976 non-null  object \n",
      " 16  attacktype1      176975 non-null  object \n",
      " 17  attacktype1_txt  176963 non-null  object \n",
      " 18  targtype1        176968 non-null  object \n",
      " 19  targtype1_txt    176968 non-null  object \n",
      " 20  target1          176360 non-null  object \n",
      " 21  natlty1          175435 non-null  object \n",
      " 22  natlty1_txt      173742 non-null  object \n",
      " 23  gname            175093 non-null  object \n",
      " 24  nperps           109510 non-null  object \n",
      " 25  claimed          113443 non-null  object \n",
      " 26  claimmode        18918 non-null   object \n",
      " 27  claimmode_txt    18718 non-null   object \n",
      " 28  weaptype1        176965 non-null  object \n",
      " 29  weaptype1_txt    176869 non-null  object \n",
      " 30  nkill            166565 non-null  float64\n",
      " 31  nkillus          116024 non-null  object \n",
      " 32  nwound           160746 non-null  object \n",
      " 33  property         175932 non-null  object \n",
      " 34  related          24160 non-null   object \n",
      "dtypes: float64(3), int64(7), object(25)\n",
      "memory usage: 53.6+ MB\n"
     ]
    }
   ],
   "source": [
    "data.info()"
   ]
  },
  {
   "cell_type": "code",
   "execution_count": 16,
   "metadata": {},
   "outputs": [
    {
     "name": "stdout",
     "output_type": "stream",
     "text": [
      "1792\n",
      "105\n"
     ]
    }
   ],
   "source": [
    "# 删除串行的数据\n",
    "nullcount=0\n",
    "for index in data.index:\n",
    "    if pd.isnull(data.loc[index,'natlty1']):\n",
    "        continue\n",
    "    try:\n",
    "        num = int(data.loc[index,'natlty1'])\n",
    "    except ValueError:\n",
    "        data.drop(index,axis=0,inplace=True)\n",
    "        nullcount += 1\n",
    "        continue\n",
    "        \n",
    "print(nullcount)\n",
    "\n",
    "nullcount=0\n",
    "for index in data.index:\n",
    "    if pd.isnull(data.loc[index,'weaptype1']):\n",
    "        continue\n",
    "    try:\n",
    "        num = int(data.loc[index,'weaptype1'])\n",
    "    except ValueError:\n",
    "        data.drop(index,axis=0,inplace=True)\n",
    "        nullcount += 1\n",
    "        continue\n",
    "        \n",
    "print(nullcount)"
   ]
  },
  {
   "cell_type": "code",
   "execution_count": 17,
   "metadata": {},
   "outputs": [
    {
     "name": "stdout",
     "output_type": "stream",
     "text": [
      "<class 'pandas.core.frame.DataFrame'>\n",
      "Int64Index: 175085 entries, 0 to 181546\n",
      "Data columns (total 35 columns):\n",
      " #   Column           Non-Null Count   Dtype  \n",
      "---  ------           --------------   -----  \n",
      " 0   eventid          175085 non-null  int64  \n",
      " 1   iyear            175085 non-null  int64  \n",
      " 2   imonth           175085 non-null  int64  \n",
      " 3   iday             175085 non-null  int64  \n",
      " 4   extended         175085 non-null  int64  \n",
      " 5   country          175085 non-null  int64  \n",
      " 6   country_txt      175085 non-null  object \n",
      " 7   region           175085 non-null  int64  \n",
      " 8   region_txt       175085 non-null  object \n",
      " 9   city             174665 non-null  object \n",
      " 10  latitude         175085 non-null  float64\n",
      " 11  longitude        175085 non-null  float64\n",
      " 12  success          175082 non-null  object \n",
      " 13  suicide          175081 non-null  object \n",
      " 14  doubtterr        175075 non-null  object \n",
      " 15  multiple         175081 non-null  object \n",
      " 16  attacktype1      175081 non-null  object \n",
      " 17  attacktype1_txt  175077 non-null  object \n",
      " 18  targtype1        175074 non-null  object \n",
      " 19  targtype1_txt    175074 non-null  object \n",
      " 20  target1          174482 non-null  object \n",
      " 21  natlty1          173556 non-null  object \n",
      " 22  natlty1_txt      173556 non-null  object \n",
      " 23  gname            175052 non-null  object \n",
      " 24  nperps           108334 non-null  object \n",
      " 25  claimed          113225 non-null  object \n",
      " 26  claimmode        18701 non-null   object \n",
      " 27  claimmode_txt    18702 non-null   object \n",
      " 28  weaptype1        175071 non-null  object \n",
      " 29  weaptype1_txt    175073 non-null  object \n",
      " 30  nkill            165346 non-null  float64\n",
      " 31  nkillus          114823 non-null  object \n",
      " 32  nwound           159530 non-null  object \n",
      " 33  property         175064 non-null  object \n",
      " 34  related          24160 non-null   object \n",
      "dtypes: float64(3), int64(7), object(25)\n",
      "memory usage: 53.1+ MB\n"
     ]
    }
   ],
   "source": [
    "data.info()"
   ]
  },
  {
   "cell_type": "code",
   "execution_count": 18,
   "metadata": {},
   "outputs": [],
   "source": [
    "# 删除nkill或者nwound为空的数据\n",
    "# data.drop(data[pd.isnull(data['nkill']) or pd.isnull(data['nwound'])].index,axis=0,inplace=True)\n",
    "data.dropna(subset=['nkill'],inplace=True)\n",
    "data.dropna(subset=['nwound'],inplace=True)"
   ]
  },
  {
   "cell_type": "code",
   "execution_count": 19,
   "metadata": {},
   "outputs": [],
   "source": [
    "values={'city':'Unknown','related':'-1','claimmode':'-1','claimmode_txt':'Non'}\n",
    "data.fillna(value=values,inplace=True)\n",
    "# data['city'].fillna('Unknown')\n",
    "# data['related'].fillna('-1')"
   ]
  },
  {
   "cell_type": "code",
   "execution_count": 20,
   "metadata": {},
   "outputs": [
    {
     "name": "stdout",
     "output_type": "stream",
     "text": [
      "<class 'pandas.core.frame.DataFrame'>\n",
      "Int64Index: 158985 entries, 0 to 181546\n",
      "Data columns (total 35 columns):\n",
      " #   Column           Non-Null Count   Dtype  \n",
      "---  ------           --------------   -----  \n",
      " 0   eventid          158985 non-null  int64  \n",
      " 1   iyear            158985 non-null  int64  \n",
      " 2   imonth           158985 non-null  int64  \n",
      " 3   iday             158985 non-null  int64  \n",
      " 4   extended         158985 non-null  int64  \n",
      " 5   country          158985 non-null  int64  \n",
      " 6   country_txt      158985 non-null  object \n",
      " 7   region           158985 non-null  int64  \n",
      " 8   region_txt       158985 non-null  object \n",
      " 9   city             158985 non-null  object \n",
      " 10  latitude         158985 non-null  float64\n",
      " 11  longitude        158985 non-null  float64\n",
      " 12  success          158985 non-null  object \n",
      " 13  suicide          158985 non-null  object \n",
      " 14  doubtterr        158984 non-null  object \n",
      " 15  multiple         158984 non-null  object \n",
      " 16  attacktype1      158985 non-null  object \n",
      " 17  attacktype1_txt  158985 non-null  object \n",
      " 18  targtype1        158985 non-null  object \n",
      " 19  targtype1_txt    158985 non-null  object \n",
      " 20  target1          158441 non-null  object \n",
      " 21  natlty1          157520 non-null  object \n",
      " 22  natlty1_txt      157520 non-null  object \n",
      " 23  gname            158965 non-null  object \n",
      " 24  nperps           100451 non-null  object \n",
      " 25  claimed          104841 non-null  object \n",
      " 26  claimmode        158985 non-null  object \n",
      " 27  claimmode_txt    158985 non-null  object \n",
      " 28  weaptype1        158983 non-null  object \n",
      " 29  weaptype1_txt    158983 non-null  object \n",
      " 30  nkill            158985 non-null  float64\n",
      " 31  nkillus          106532 non-null  object \n",
      " 32  nwound           158985 non-null  object \n",
      " 33  property         158979 non-null  object \n",
      " 34  related          158985 non-null  object \n",
      "dtypes: float64(3), int64(7), object(25)\n",
      "memory usage: 43.7+ MB\n"
     ]
    }
   ],
   "source": [
    "data.info()"
   ]
  },
  {
   "cell_type": "code",
   "execution_count": 21,
   "metadata": {},
   "outputs": [],
   "source": [
    "data.dropna(subset=['nperps'],inplace=True)\n",
    "data.dropna(subset=['claimed'],inplace=True)\n",
    "data.dropna(subset=['nkillus'],inplace=True)"
   ]
  },
  {
   "cell_type": "code",
   "execution_count": 22,
   "metadata": {},
   "outputs": [],
   "source": [
    "data.dropna(how='any',inplace=True)"
   ]
  },
  {
   "cell_type": "code",
   "execution_count": 23,
   "metadata": {},
   "outputs": [],
   "source": [
    "data.drop(['doubtterr'],axis=1,inplace=True)"
   ]
  },
  {
   "cell_type": "code",
   "execution_count": 24,
   "metadata": {},
   "outputs": [
    {
     "name": "stdout",
     "output_type": "stream",
     "text": [
      "<class 'pandas.core.frame.DataFrame'>\n",
      "Int64Index: 92076 entries, 5 to 181546\n",
      "Data columns (total 34 columns):\n",
      " #   Column           Non-Null Count  Dtype  \n",
      "---  ------           --------------  -----  \n",
      " 0   eventid          92076 non-null  int64  \n",
      " 1   iyear            92076 non-null  int64  \n",
      " 2   imonth           92076 non-null  int64  \n",
      " 3   iday             92076 non-null  int64  \n",
      " 4   extended         92076 non-null  int64  \n",
      " 5   country          92076 non-null  int64  \n",
      " 6   country_txt      92076 non-null  object \n",
      " 7   region           92076 non-null  int64  \n",
      " 8   region_txt       92076 non-null  object \n",
      " 9   city             92076 non-null  object \n",
      " 10  latitude         92076 non-null  float64\n",
      " 11  longitude        92076 non-null  float64\n",
      " 12  success          92076 non-null  object \n",
      " 13  suicide          92076 non-null  object \n",
      " 14  multiple         92076 non-null  object \n",
      " 15  attacktype1      92076 non-null  object \n",
      " 16  attacktype1_txt  92076 non-null  object \n",
      " 17  targtype1        92076 non-null  object \n",
      " 18  targtype1_txt    92076 non-null  object \n",
      " 19  target1          92076 non-null  object \n",
      " 20  natlty1          92076 non-null  object \n",
      " 21  natlty1_txt      92076 non-null  object \n",
      " 22  gname            92076 non-null  object \n",
      " 23  nperps           92076 non-null  object \n",
      " 24  claimed          92076 non-null  object \n",
      " 25  claimmode        92076 non-null  object \n",
      " 26  claimmode_txt    92076 non-null  object \n",
      " 27  weaptype1        92076 non-null  object \n",
      " 28  weaptype1_txt    92076 non-null  object \n",
      " 29  nkill            92076 non-null  float64\n",
      " 30  nkillus          92076 non-null  object \n",
      " 31  nwound           92076 non-null  object \n",
      " 32  property         92076 non-null  object \n",
      " 33  related          92076 non-null  object \n",
      "dtypes: float64(3), int64(7), object(24)\n",
      "memory usage: 24.6+ MB\n"
     ]
    }
   ],
   "source": [
    "data.info()"
   ]
  },
  {
   "cell_type": "code",
   "execution_count": 14,
   "metadata": {},
   "outputs": [],
   "source": [
    "# data = pd.read_csv(\"GTD_preprocessed.csv\")\n",
    "def toint (x):\n",
    "    return int(x)\n",
    "data.loc[data['nperps'].apply(toint)==-99,'nperps'] = '-1'\n",
    "data.loc[data['property'].apply(toint)==-9,'property'] = '-1'\n",
    "def tonyear(x):\n",
    "    return int(x)-1970\n",
    "data['nyear'] = data['iyear'].apply(tonyear)"
   ]
  },
  {
   "cell_type": "code",
   "execution_count": 15,
   "metadata": {},
   "outputs": [
    {
     "data": {
      "text/html": [
       "<div>\n",
       "<style scoped>\n",
       "    .dataframe tbody tr th:only-of-type {\n",
       "        vertical-align: middle;\n",
       "    }\n",
       "\n",
       "    .dataframe tbody tr th {\n",
       "        vertical-align: top;\n",
       "    }\n",
       "\n",
       "    .dataframe thead th {\n",
       "        text-align: right;\n",
       "    }\n",
       "</style>\n",
       "<table border=\"1\" class=\"dataframe\">\n",
       "  <thead>\n",
       "    <tr style=\"text-align: right;\">\n",
       "      <th></th>\n",
       "      <th>eventid</th>\n",
       "      <th>iyear</th>\n",
       "      <th>imonth</th>\n",
       "      <th>iday</th>\n",
       "      <th>extended</th>\n",
       "      <th>country</th>\n",
       "      <th>country_txt</th>\n",
       "      <th>region</th>\n",
       "      <th>region_txt</th>\n",
       "      <th>city</th>\n",
       "      <th>...</th>\n",
       "      <th>claimmode</th>\n",
       "      <th>claimmode_txt</th>\n",
       "      <th>weaptype1</th>\n",
       "      <th>weaptype1_txt</th>\n",
       "      <th>nkill</th>\n",
       "      <th>nkillus</th>\n",
       "      <th>nwound</th>\n",
       "      <th>property</th>\n",
       "      <th>related</th>\n",
       "      <th>nyear</th>\n",
       "    </tr>\n",
       "  </thead>\n",
       "  <tbody>\n",
       "    <tr>\n",
       "      <th>0</th>\n",
       "      <td>197001010002</td>\n",
       "      <td>1970</td>\n",
       "      <td>1</td>\n",
       "      <td>1</td>\n",
       "      <td>0</td>\n",
       "      <td>217</td>\n",
       "      <td>United States</td>\n",
       "      <td>1</td>\n",
       "      <td>North America</td>\n",
       "      <td>Cairo</td>\n",
       "      <td>...</td>\n",
       "      <td>-1.0</td>\n",
       "      <td>Non</td>\n",
       "      <td>5</td>\n",
       "      <td>Firearms</td>\n",
       "      <td>0.0</td>\n",
       "      <td>0.0</td>\n",
       "      <td>0.0</td>\n",
       "      <td>1</td>\n",
       "      <td>-1</td>\n",
       "      <td>0</td>\n",
       "    </tr>\n",
       "    <tr>\n",
       "      <th>1</th>\n",
       "      <td>197001020002</td>\n",
       "      <td>1970</td>\n",
       "      <td>1</td>\n",
       "      <td>2</td>\n",
       "      <td>0</td>\n",
       "      <td>217</td>\n",
       "      <td>United States</td>\n",
       "      <td>1</td>\n",
       "      <td>North America</td>\n",
       "      <td>Oakland</td>\n",
       "      <td>...</td>\n",
       "      <td>-1.0</td>\n",
       "      <td>Non</td>\n",
       "      <td>6</td>\n",
       "      <td>Explosives</td>\n",
       "      <td>0.0</td>\n",
       "      <td>0.0</td>\n",
       "      <td>0.0</td>\n",
       "      <td>1</td>\n",
       "      <td>-1</td>\n",
       "      <td>0</td>\n",
       "    </tr>\n",
       "    <tr>\n",
       "      <th>2</th>\n",
       "      <td>197001020003</td>\n",
       "      <td>1970</td>\n",
       "      <td>1</td>\n",
       "      <td>2</td>\n",
       "      <td>0</td>\n",
       "      <td>217</td>\n",
       "      <td>United States</td>\n",
       "      <td>1</td>\n",
       "      <td>North America</td>\n",
       "      <td>Madison</td>\n",
       "      <td>...</td>\n",
       "      <td>1.0</td>\n",
       "      <td>Letter</td>\n",
       "      <td>8</td>\n",
       "      <td>Incendiary</td>\n",
       "      <td>0.0</td>\n",
       "      <td>0.0</td>\n",
       "      <td>0.0</td>\n",
       "      <td>1</td>\n",
       "      <td>-1</td>\n",
       "      <td>0</td>\n",
       "    </tr>\n",
       "    <tr>\n",
       "      <th>3</th>\n",
       "      <td>197001030001</td>\n",
       "      <td>1970</td>\n",
       "      <td>1</td>\n",
       "      <td>3</td>\n",
       "      <td>0</td>\n",
       "      <td>217</td>\n",
       "      <td>United States</td>\n",
       "      <td>1</td>\n",
       "      <td>North America</td>\n",
       "      <td>Madison</td>\n",
       "      <td>...</td>\n",
       "      <td>-1.0</td>\n",
       "      <td>Non</td>\n",
       "      <td>8</td>\n",
       "      <td>Incendiary</td>\n",
       "      <td>0.0</td>\n",
       "      <td>0.0</td>\n",
       "      <td>0.0</td>\n",
       "      <td>1</td>\n",
       "      <td>-1</td>\n",
       "      <td>0</td>\n",
       "    </tr>\n",
       "    <tr>\n",
       "      <th>4</th>\n",
       "      <td>197001060001</td>\n",
       "      <td>1970</td>\n",
       "      <td>1</td>\n",
       "      <td>6</td>\n",
       "      <td>0</td>\n",
       "      <td>217</td>\n",
       "      <td>United States</td>\n",
       "      <td>1</td>\n",
       "      <td>North America</td>\n",
       "      <td>Denver</td>\n",
       "      <td>...</td>\n",
       "      <td>-1.0</td>\n",
       "      <td>Non</td>\n",
       "      <td>8</td>\n",
       "      <td>Incendiary</td>\n",
       "      <td>0.0</td>\n",
       "      <td>0.0</td>\n",
       "      <td>0.0</td>\n",
       "      <td>1</td>\n",
       "      <td>-1</td>\n",
       "      <td>0</td>\n",
       "    </tr>\n",
       "  </tbody>\n",
       "</table>\n",
       "<p>5 rows × 35 columns</p>\n",
       "</div>"
      ],
      "text/plain": [
       "        eventid  iyear  imonth  iday  extended  country    country_txt  \\\n",
       "0  197001010002   1970       1     1         0      217  United States   \n",
       "1  197001020002   1970       1     2         0      217  United States   \n",
       "2  197001020003   1970       1     2         0      217  United States   \n",
       "3  197001030001   1970       1     3         0      217  United States   \n",
       "4  197001060001   1970       1     6         0      217  United States   \n",
       "\n",
       "   region     region_txt     city  ...  claimmode  claimmode_txt  weaptype1  \\\n",
       "0       1  North America    Cairo  ...       -1.0            Non          5   \n",
       "1       1  North America  Oakland  ...       -1.0            Non          6   \n",
       "2       1  North America  Madison  ...        1.0         Letter          8   \n",
       "3       1  North America  Madison  ...       -1.0            Non          8   \n",
       "4       1  North America   Denver  ...       -1.0            Non          8   \n",
       "\n",
       "   weaptype1_txt  nkill  nkillus nwound  property related nyear  \n",
       "0       Firearms    0.0      0.0    0.0         1      -1     0  \n",
       "1     Explosives    0.0      0.0    0.0         1      -1     0  \n",
       "2     Incendiary    0.0      0.0    0.0         1      -1     0  \n",
       "3     Incendiary    0.0      0.0    0.0         1      -1     0  \n",
       "4     Incendiary    0.0      0.0    0.0         1      -1     0  \n",
       "\n",
       "[5 rows x 35 columns]"
      ]
     },
     "execution_count": 15,
     "metadata": {},
     "output_type": "execute_result"
    }
   ],
   "source": [
    "data.head(5)"
   ]
  },
  {
   "cell_type": "code",
   "execution_count": 3,
   "metadata": {},
   "outputs": [
    {
     "name": "stdout",
     "output_type": "stream",
     "text": [
      "<class 'pandas.core.frame.DataFrame'>\n",
      "RangeIndex: 92076 entries, 0 to 92075\n",
      "Data columns (total 35 columns):\n",
      " #   Column           Non-Null Count  Dtype  \n",
      "---  ------           --------------  -----  \n",
      " 0   eventid          92076 non-null  int64  \n",
      " 1   iyear            92076 non-null  int64  \n",
      " 2   imonth           92076 non-null  int64  \n",
      " 3   iday             92076 non-null  int64  \n",
      " 4   extended         92076 non-null  int64  \n",
      " 5   country          92076 non-null  int64  \n",
      " 6   country_txt      92076 non-null  object \n",
      " 7   region           92076 non-null  int64  \n",
      " 8   region_txt       92076 non-null  object \n",
      " 9   city             92076 non-null  object \n",
      " 10  latitude         92076 non-null  float64\n",
      " 11  longitude        92076 non-null  float64\n",
      " 12  success          92076 non-null  float64\n",
      " 13  suicide          92076 non-null  float64\n",
      " 14  multiple         92076 non-null  float64\n",
      " 15  attacktype1      92076 non-null  float64\n",
      " 16  attacktype1_txt  92076 non-null  object \n",
      " 17  targtype1        92076 non-null  float64\n",
      " 18  targtype1_txt    92076 non-null  object \n",
      " 19  target1          92076 non-null  object \n",
      " 20  natlty1          92076 non-null  int64  \n",
      " 21  natlty1_txt      92076 non-null  object \n",
      " 22  gname            92076 non-null  object \n",
      " 23  nperps           92076 non-null  float64\n",
      " 24  claimed          92076 non-null  float64\n",
      " 25  claimmode        92076 non-null  float64\n",
      " 26  claimmode_txt    92076 non-null  object \n",
      " 27  weaptype1        92076 non-null  int64  \n",
      " 28  weaptype1_txt    92076 non-null  object \n",
      " 29  nkill            92076 non-null  float64\n",
      " 30  nkillus          92076 non-null  float64\n",
      " 31  nwound           92076 non-null  float64\n",
      " 32  property         92076 non-null  float64\n",
      " 33  related          92076 non-null  object \n",
      " 34  nyear            92076 non-null  int64  \n",
      "dtypes: float64(14), int64(10), object(11)\n",
      "memory usage: 24.6+ MB\n"
     ]
    }
   ],
   "source": [
    "data = pd.read_csv(\"GTD_preprocessed.csv\")\n",
    "def toint (x):\n",
    "    return int(x)\n",
    "data.info()"
   ]
  },
  {
   "cell_type": "code",
   "execution_count": 5,
   "metadata": {},
   "outputs": [],
   "source": [
    "data['success']=data['success'].apply(toint)\n",
    "data['suicide']=data['suicide'].apply(toint)\n",
    "data['multiple']=data['multiple'].apply(toint)\n",
    "data['attacktype1']=data['attacktype1'].apply(toint)\n",
    "data['targtype1']=data['targtype1'].apply(toint)\n",
    "data['natlty1']=data['natlty1'].apply(toint)\n",
    "data['nperps']=data['nperps'].apply(toint)\n",
    "data['claimed']=data['claimed'].apply(toint)\n",
    "data['claimmode']=data['claimmode'].apply(toint)\n",
    "data['nkill']=data['nkill'].apply(toint)\n",
    "data['nkillus']=data['nkillus'].apply(toint)\n",
    "data['nwound']=data['nwound'].apply(toint)\n",
    "data['property']=data['property'].apply(toint)"
   ]
  },
  {
   "cell_type": "code",
   "execution_count": 6,
   "metadata": {},
   "outputs": [
    {
     "name": "stdout",
     "output_type": "stream",
     "text": [
      "<class 'pandas.core.frame.DataFrame'>\n",
      "RangeIndex: 92076 entries, 0 to 92075\n",
      "Data columns (total 35 columns):\n",
      " #   Column           Non-Null Count  Dtype  \n",
      "---  ------           --------------  -----  \n",
      " 0   eventid          92076 non-null  int64  \n",
      " 1   iyear            92076 non-null  int64  \n",
      " 2   imonth           92076 non-null  int64  \n",
      " 3   iday             92076 non-null  int64  \n",
      " 4   extended         92076 non-null  int64  \n",
      " 5   country          92076 non-null  int64  \n",
      " 6   country_txt      92076 non-null  object \n",
      " 7   region           92076 non-null  int64  \n",
      " 8   region_txt       92076 non-null  object \n",
      " 9   city             92076 non-null  object \n",
      " 10  latitude         92076 non-null  float64\n",
      " 11  longitude        92076 non-null  float64\n",
      " 12  success          92076 non-null  int64  \n",
      " 13  suicide          92076 non-null  int64  \n",
      " 14  multiple         92076 non-null  int64  \n",
      " 15  attacktype1      92076 non-null  int64  \n",
      " 16  attacktype1_txt  92076 non-null  object \n",
      " 17  targtype1        92076 non-null  int64  \n",
      " 18  targtype1_txt    92076 non-null  object \n",
      " 19  target1          92076 non-null  object \n",
      " 20  natlty1          92076 non-null  int64  \n",
      " 21  natlty1_txt      92076 non-null  object \n",
      " 22  gname            92076 non-null  object \n",
      " 23  nperps           92076 non-null  int64  \n",
      " 24  claimed          92076 non-null  int64  \n",
      " 25  claimmode        92076 non-null  int64  \n",
      " 26  claimmode_txt    92076 non-null  object \n",
      " 27  weaptype1        92076 non-null  int64  \n",
      " 28  weaptype1_txt    92076 non-null  object \n",
      " 29  nkill            92076 non-null  int64  \n",
      " 30  nkillus          92076 non-null  int64  \n",
      " 31  nwound           92076 non-null  int64  \n",
      " 32  property         92076 non-null  int64  \n",
      " 33  related          92076 non-null  object \n",
      " 34  nyear            92076 non-null  int64  \n",
      "dtypes: float64(2), int64(22), object(11)\n",
      "memory usage: 24.6+ MB\n"
     ]
    }
   ],
   "source": [
    "data.info()"
   ]
  },
  {
   "cell_type": "code",
   "execution_count": 2,
   "metadata": {},
   "outputs": [
    {
     "ename": "NameError",
     "evalue": "name 'data' is not defined",
     "output_type": "error",
     "traceback": [
      "\u001b[1;31m---------------------------------------------------------------------------\u001b[0m",
      "\u001b[1;31mNameError\u001b[0m                                 Traceback (most recent call last)",
      "\u001b[1;32m<ipython-input-2-f6537582f781>\u001b[0m in \u001b[0;36m<module>\u001b[1;34m\u001b[0m\n\u001b[1;32m----> 1\u001b[1;33m \u001b[0mdata\u001b[0m\u001b[1;33m.\u001b[0m\u001b[0mto_csv\u001b[0m\u001b[1;33m(\u001b[0m\u001b[1;34m\"GTD_preprocessed.csv\"\u001b[0m\u001b[1;33m,\u001b[0m\u001b[0mindex\u001b[0m\u001b[1;33m=\u001b[0m\u001b[1;36m0\u001b[0m\u001b[1;33m)\u001b[0m\u001b[1;33m\u001b[0m\u001b[1;33m\u001b[0m\u001b[0m\n\u001b[0m",
      "\u001b[1;31mNameError\u001b[0m: name 'data' is not defined"
     ]
    }
   ],
   "source": [
    "data.to_csv(\"GTD_preprocessed.csv\",index=0)"
   ]
  },
  {
   "cell_type": "code",
   "execution_count": 3,
   "metadata": {},
   "outputs": [],
   "source": [
    "data = pd.read_csv(\"GTD_preprocessed.csv\")\n",
    "def if_after_year(year,styear):\n",
    "    return year>=styear\n",
    "data = data[data['iyear'].apply(if_after_year,styear=2000)]"
   ]
  },
  {
   "cell_type": "code",
   "execution_count": 4,
   "metadata": {},
   "outputs": [
    {
     "data": {
      "text/plain": [
       "2014    14555\n",
       "2015    12983\n",
       "2016    11982\n",
       "2013    11084\n",
       "2017     9613\n",
       "2012     7894\n",
       "2011     4865\n",
       "2010     4709\n",
       "2009     4448\n",
       "2008     3986\n",
       "2007      712\n",
       "2001      701\n",
       "2000      605\n",
       "2002      555\n",
       "2006      549\n",
       "2005      533\n",
       "2003      328\n",
       "2004      263\n",
       "Name: iyear, dtype: int64"
      ]
     },
     "execution_count": 4,
     "metadata": {},
     "output_type": "execute_result"
    }
   ],
   "source": [
    "data['iyear'].value_counts()"
   ]
  },
  {
   "cell_type": "code",
   "execution_count": 6,
   "metadata": {},
   "outputs": [],
   "source": [
    "data.to_csv(\"GTD_preprocessed_v1.csv\",index=False)"
   ]
  }
 ],
 "metadata": {
  "kernelspec": {
   "display_name": "Python 3",
   "language": "python",
   "name": "python3"
  },
  "language_info": {
   "codemirror_mode": {
    "name": "ipython",
    "version": 3
   },
   "file_extension": ".py",
   "mimetype": "text/x-python",
   "name": "python",
   "nbconvert_exporter": "python",
   "pygments_lexer": "ipython3",
   "version": "3.8.5"
  }
 },
 "nbformat": 4,
 "nbformat_minor": 4
}
