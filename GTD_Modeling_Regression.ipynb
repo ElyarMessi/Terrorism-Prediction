{
 "cells": [
  {
   "cell_type": "code",
   "execution_count": 1,
   "metadata": {},
   "outputs": [],
   "source": [
    "import pandas as pd\n",
    "import numpy as np"
   ]
  },
  {
   "cell_type": "code",
   "execution_count": 2,
   "metadata": {},
   "outputs": [
    {
     "name": "stdout",
     "output_type": "stream",
     "text": [
      "<class 'pandas.core.frame.DataFrame'>\n",
      "RangeIndex: 90365 entries, 0 to 90364\n",
      "Data columns (total 21 columns):\n",
      " #   Column       Non-Null Count  Dtype  \n",
      "---  ------       --------------  -----  \n",
      " 0   extended     90365 non-null  int64  \n",
      " 1   country      90365 non-null  int64  \n",
      " 2   region       90365 non-null  int64  \n",
      " 3   latitude     90365 non-null  float64\n",
      " 4   longitude    90365 non-null  float64\n",
      " 5   success      90365 non-null  int64  \n",
      " 6   suicide      90365 non-null  int64  \n",
      " 7   multiple     90365 non-null  int64  \n",
      " 8   attacktype1  90365 non-null  int64  \n",
      " 9   targtype1    90365 non-null  int64  \n",
      " 10  natlty1      90365 non-null  int64  \n",
      " 11  nperps       90365 non-null  int64  \n",
      " 12  claimed      90365 non-null  int64  \n",
      " 13  claimmode    90365 non-null  int64  \n",
      " 14  weaptype1    90365 non-null  int64  \n",
      " 15  nkill        90365 non-null  int64  \n",
      " 16  nkillus      90365 non-null  int64  \n",
      " 17  nwound       90365 non-null  int64  \n",
      " 18  property     90365 non-null  int64  \n",
      " 19  nyear        90365 non-null  int64  \n",
      " 20  groupid      90365 non-null  int64  \n",
      "dtypes: float64(2), int64(19)\n",
      "memory usage: 14.5 MB\n"
     ]
    }
   ],
   "source": [
    "data = pd.read_csv(\"GTD_ForModel_v1.csv\")\n",
    "data.info()"
   ]
  },
  {
   "cell_type": "code",
   "execution_count": 12,
   "metadata": {},
   "outputs": [
    {
     "name": "stdout",
     "output_type": "stream",
     "text": [
      "<class 'pandas.core.frame.DataFrame'>\n",
      "RangeIndex: 90365 entries, 0 to 90364\n",
      "Data columns (total 16 columns):\n",
      " #   Column       Non-Null Count  Dtype  \n",
      "---  ------       --------------  -----  \n",
      " 0   extended     90365 non-null  int64  \n",
      " 1   country      90365 non-null  int64  \n",
      " 2   region       90365 non-null  int64  \n",
      " 3   latitude     90365 non-null  float64\n",
      " 4   longitude    90365 non-null  float64\n",
      " 5   success      90365 non-null  int64  \n",
      " 6   suicide      90365 non-null  int64  \n",
      " 7   attacktype1  90365 non-null  int64  \n",
      " 8   targtype1    90365 non-null  int64  \n",
      " 9   nperps       90365 non-null  int64  \n",
      " 10  claimed      90365 non-null  int64  \n",
      " 11  claimmode    90365 non-null  int64  \n",
      " 12  weaptype1    90365 non-null  int64  \n",
      " 13  nkill        90365 non-null  int64  \n",
      " 14  nyear        90365 non-null  int64  \n",
      " 15  groupid      90365 non-null  int64  \n",
      "dtypes: float64(2), int64(14)\n",
      "memory usage: 11.0 MB\n",
      "0      44117\n",
      "1      21241\n",
      "2       8542\n",
      "3       4486\n",
      "4       2785\n",
      "       ...  \n",
      "670        1\n",
      "287        1\n",
      "96         1\n",
      "160        1\n",
      "284        1\n",
      "Name: nkill, Length: 143, dtype: int64\n",
      "<class 'pandas.core.frame.DataFrame'>\n",
      "Int64Index: 46248 entries, 1 to 90361\n",
      "Data columns (total 16 columns):\n",
      " #   Column       Non-Null Count  Dtype  \n",
      "---  ------       --------------  -----  \n",
      " 0   extended     46248 non-null  int64  \n",
      " 1   country      46248 non-null  int64  \n",
      " 2   region       46248 non-null  int64  \n",
      " 3   latitude     46248 non-null  float64\n",
      " 4   longitude    46248 non-null  float64\n",
      " 5   success      46248 non-null  int64  \n",
      " 6   suicide      46248 non-null  int64  \n",
      " 7   attacktype1  46248 non-null  int64  \n",
      " 8   targtype1    46248 non-null  int64  \n",
      " 9   nperps       46248 non-null  int64  \n",
      " 10  claimed      46248 non-null  int64  \n",
      " 11  claimmode    46248 non-null  int64  \n",
      " 12  weaptype1    46248 non-null  int64  \n",
      " 13  nkill        46248 non-null  int64  \n",
      " 14  nyear        46248 non-null  int64  \n",
      " 15  groupid      46248 non-null  int64  \n",
      "dtypes: float64(2), int64(14)\n",
      "memory usage: 6.0 MB\n"
     ]
    }
   ],
   "source": [
    "#data.drop(['multiple','natlty1','nkillus','nwound','property'],axis=1,inplace=True)\n",
    "data.info()\n",
    "value_count = data['nkill'].value_counts()\n",
    "print(value_count)\n",
    "def getcount(x):\n",
    "    return int(x)==0\n",
    "\n",
    "data.drop(data[data['nkill'].apply(func=getcount)].index,inplace=True)\n",
    "data['nkill'].value_counts()\n",
    "data.info()"
   ]
  },
  {
   "cell_type": "code",
   "execution_count": 4,
   "metadata": {},
   "outputs": [],
   "source": [
    "from sklearn.model_selection import train_test_split\n",
    "def get_train_test_data(data,y_name,test_size):\n",
    "    all_x = data.drop([y_name],axis=1)\n",
    "    all_y = data[y_name]\n",
    "    train_X,test_X,train_Y,test_Y = train_test_split(all_x,all_y,random_state=1,test_size=test_size)\n",
    "    return train_X,train_Y,test_X,test_Y"
   ]
  },
  {
   "cell_type": "code",
   "execution_count": 13,
   "metadata": {},
   "outputs": [],
   "source": [
    "train_X,train_Y,test_X,test_Y = get_train_test_data(data,'nkill',0.2)"
   ]
  },
  {
   "cell_type": "code",
   "execution_count": 6,
   "metadata": {},
   "outputs": [],
   "source": [
    "from sklearn.linear_model import LinearRegression\n",
    "from sklearn.ensemble import RandomForestRegressor\n",
    "from sklearn import model_selection\n",
    "from sklearn.metrics import r2_score"
   ]
  },
  {
   "cell_type": "code",
   "execution_count": 14,
   "metadata": {},
   "outputs": [
    {
     "name": "stdout",
     "output_type": "stream",
     "text": [
      "R2: -0.03273637777614136\n"
     ]
    },
    {
     "data": {
      "text/html": [
       "<div>\n",
       "<style scoped>\n",
       "    .dataframe tbody tr th:only-of-type {\n",
       "        vertical-align: middle;\n",
       "    }\n",
       "\n",
       "    .dataframe tbody tr th {\n",
       "        vertical-align: top;\n",
       "    }\n",
       "\n",
       "    .dataframe thead th {\n",
       "        text-align: right;\n",
       "    }\n",
       "</style>\n",
       "<table border=\"1\" class=\"dataframe\">\n",
       "  <thead>\n",
       "    <tr style=\"text-align: right;\">\n",
       "      <th></th>\n",
       "      <th>feature</th>\n",
       "      <th>importance</th>\n",
       "    </tr>\n",
       "  </thead>\n",
       "  <tbody>\n",
       "    <tr>\n",
       "      <th>4</th>\n",
       "      <td>longitude</td>\n",
       "      <td>0.189754</td>\n",
       "    </tr>\n",
       "    <tr>\n",
       "      <th>3</th>\n",
       "      <td>latitude</td>\n",
       "      <td>0.188789</td>\n",
       "    </tr>\n",
       "    <tr>\n",
       "      <th>9</th>\n",
       "      <td>nperps</td>\n",
       "      <td>0.170897</td>\n",
       "    </tr>\n",
       "    <tr>\n",
       "      <th>12</th>\n",
       "      <td>weaptype1</td>\n",
       "      <td>0.099496</td>\n",
       "    </tr>\n",
       "    <tr>\n",
       "      <th>8</th>\n",
       "      <td>targtype1</td>\n",
       "      <td>0.074788</td>\n",
       "    </tr>\n",
       "    <tr>\n",
       "      <th>13</th>\n",
       "      <td>nyear</td>\n",
       "      <td>0.068750</td>\n",
       "    </tr>\n",
       "    <tr>\n",
       "      <th>14</th>\n",
       "      <td>groupid</td>\n",
       "      <td>0.055926</td>\n",
       "    </tr>\n",
       "    <tr>\n",
       "      <th>11</th>\n",
       "      <td>claimmode</td>\n",
       "      <td>0.032253</td>\n",
       "    </tr>\n",
       "    <tr>\n",
       "      <th>7</th>\n",
       "      <td>attacktype1</td>\n",
       "      <td>0.030747</td>\n",
       "    </tr>\n",
       "    <tr>\n",
       "      <th>1</th>\n",
       "      <td>country</td>\n",
       "      <td>0.024783</td>\n",
       "    </tr>\n",
       "  </tbody>\n",
       "</table>\n",
       "</div>"
      ],
      "text/plain": [
       "        feature  importance\n",
       "4     longitude    0.189754\n",
       "3      latitude    0.188789\n",
       "9        nperps    0.170897\n",
       "12    weaptype1    0.099496\n",
       "8     targtype1    0.074788\n",
       "13        nyear    0.068750\n",
       "14      groupid    0.055926\n",
       "11    claimmode    0.032253\n",
       "7   attacktype1    0.030747\n",
       "1       country    0.024783"
      ]
     },
     "execution_count": 14,
     "metadata": {},
     "output_type": "execute_result"
    }
   ],
   "source": [
    "model_rdf = RandomForestRegressor(n_estimators=500,max_depth=20,\n",
    "                                  n_jobs=15,verbose=0)\n",
    "model_rdf.fit(train_X,train_Y)\n",
    "predicts = model_rdf.predict(test_X)\n",
    "R2 = r2_score(test_Y,predicts)\n",
    "print('R2:',R2)\n",
    "feature_imp_sorted_rf = pd.DataFrame({'feature':list(train_X),\n",
    "                                        'importance':model_rdf.feature_importances_}).sort_values('importance',ascending=False)\n",
    "feature_imp_sorted_rf.head(10)"
   ]
  },
  {
   "cell_type": "code",
   "execution_count": 15,
   "metadata": {},
   "outputs": [
    {
     "name": "stdout",
     "output_type": "stream",
     "text": [
      "R2: -0.03273637777614136\n"
     ]
    }
   ],
   "source": [
    "from sklearn.svm import SVR\n",
    "model_svr = SVR()\n",
    "model_svr.fit(train_X,train_Y)\n",
    "predicts = model_rdf.predict(test_X)\n",
    "R2 = r2_score(test_Y,predicts)\n",
    "print('R2:',R2)"
   ]
  }
 ],
 "metadata": {
  "kernelspec": {
   "display_name": "Python 3",
   "language": "python",
   "name": "python3"
  },
  "language_info": {
   "codemirror_mode": {
    "name": "ipython",
    "version": 3
   },
   "file_extension": ".py",
   "mimetype": "text/x-python",
   "name": "python",
   "nbconvert_exporter": "python",
   "pygments_lexer": "ipython3",
   "version": "3.8.5"
  }
 },
 "nbformat": 4,
 "nbformat_minor": 4
}
